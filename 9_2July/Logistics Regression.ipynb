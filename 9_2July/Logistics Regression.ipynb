{
 "cells": [
  {
   "cell_type": "code",
   "execution_count": 1,
   "metadata": {},
   "outputs": [],
   "source": [
    "import numpy as np\n",
    "from matplotlib import pyplot as plt\n",
    "%matplotlib inline"
   ]
  },
  {
   "cell_type": "markdown",
   "metadata": {},
   "source": [
    "# Data Generation"
   ]
  },
  {
   "cell_type": "code",
   "execution_count": 3,
   "metadata": {},
   "outputs": [],
   "source": [
    "mean_01 = np.array([0.1,0.2])\n",
    "mean_02 = np.array([5.1,5.2])\n",
    "\n",
    "cov_01 = np.array([[1.0,0.2],[0.2,1.1]])\n",
    "cov_02 = np.array([[1.0,0.3],[0.3,1.1]])\n",
    "\n",
    "dist_01 = np.random.multivariate_normal(mean_01,cov_01,500)\n",
    "dist_02 = np.random.multivariate_normal(mean_02,cov_02,500)"
   ]
  },
  {
   "cell_type": "code",
   "execution_count": 4,
   "metadata": {},
   "outputs": [
    {
     "data": {
      "text/plain": [
       "<matplotlib.collections.PathCollection at 0x10f86f7b8>"
      ]
     },
     "execution_count": 4,
     "metadata": {},
     "output_type": "execute_result"
    },
    {
     "data": {
      "image/png": "[encoded data removed]",
      "text/plain": [
       "<Figure size 432x288 with 1 Axes>"
      ]
     },
     "metadata": {},
     "output_type": "display_data"
    }
   ],
   "source": [
    "plt.scatter(dist_01[:,0],dist_01[:,1])\n",
    "plt.scatter(dist_02[:,0],dist_02[:,1])"
   ]
  },
  {
   "cell_type": "code",
   "execution_count": 6,
   "metadata": {},
   "outputs": [
    {
     "name": "stdout",
     "output_type": "stream",
     "text": [
      "(1000, 3)\n"
     ]
    }
   ],
   "source": [
    "# Total Dataset\n",
    "rows = dist_01.shape[0]+dist_02.shape[0]\n",
    "cols = dist_01.shape[1]+1\n",
    "\n",
    "data = np.zeros((rows,cols))\n",
    "print(data.shape)\n",
    "\n",
    "data[:dist_01.shape[0],:dist_01.shape[1]] = dist_01 # first 500 rows , first 2 col = dist_01\n",
    "data[dist_01.shape[0]:rows,:dist_01.shape[1]] = dist_02 # first 500 rows , first 2 col = dist_02\n",
    "data[dist_01.shape[0]:rows,-1]=1.0 # for all rows , on last col fill 1"
   ]
  },
  {
   "cell_type": "code",
   "execution_count": 7,
   "metadata": {},
   "outputs": [
    {
     "data": {
      "text/plain": [
       "array([[-0.34035169,  1.87141682,  0.        ],\n",
       "       [ 5.74450998,  5.89441449,  1.        ],\n",
       "       [-0.95118597,  0.73777341,  0.        ],\n",
       "       [ 0.93858299, -0.29274457,  0.        ],\n",
       "       [ 4.96076914,  4.71146404,  1.        ],\n",
       "       [-0.88345361,  1.87927602,  0.        ],\n",
       "       [ 4.84141683,  2.82157605,  1.        ],\n",
       "       [ 7.31372283,  6.72875728,  1.        ],\n",
       "       [ 0.4372614 ,  0.16561926,  0.        ],\n",
       "       [ 1.02259777,  0.84716667,  0.        ]])"
      ]
     },
     "execution_count": 7,
     "metadata": {},
     "output_type": "execute_result"
    }
   ],
   "source": [
    "np.random.shuffle(data)\n",
    "\n",
    "data[:10]"
   ]
  },
  {
   "cell_type": "code",
   "execution_count": 11,
   "metadata": {},
   "outputs": [
    {
     "name": "stdout",
     "output_type": "stream",
     "text": [
      "(750, 2)\n",
      "(250, 2)\n",
      "(750,)\n",
      "(250,)\n"
     ]
    }
   ],
   "source": [
    "## data Splitting\n",
    "split = int(0.75*data.shape[0])\n",
    "X_train = data[:split,:-1]\n",
    "Y_train = data[:split,-1]\n",
    "\n",
    "X_test = data[split:,:-1]\n",
    "Y_test = data[split:,-1]\n",
    "\n",
    "print(X_train.shape)\n",
    "print(X_test.shape)\n",
    "print(Y_train.shape)\n",
    "print(Y_test.shape)"
   ]
  },
  {
   "cell_type": "code",
   "execution_count": 12,
   "metadata": {},
   "outputs": [],
   "source": [
    "# function\n",
    "\n",
    "def sigmoid(z):\n",
    "    sig = 1.0/(1+np.exp(-1*z))\n",
    "    return sig\n",
    "\n",
    "def hypothesis(x_sample,w,b):\n",
    "    h = (x_sample*w).sum()+b\n",
    "    return sigmoid(h)\n",
    "\n",
    "def get_error(x,w,y_true,b):\n",
    "    err = 0.0\n",
    "    m = x.shape[0]\n",
    "    \n",
    "    for ix in range(m):\n",
    "        if y_true[ix] == 0:\n",
    "            # print hypothesis(x[ix],w,b)\n",
    "            add_term = -1*(np.log(1-hypothesis(x[ix],w,b)))\n",
    "            err += add_term\n",
    "        else:\n",
    "            add_term = -1*(np.log(hypothesis(x[ix],w,b)))\n",
    "            err += add_term\n",
    "    \n",
    "    err = err/m\n",
    "    return err"
   ]
  },
  {
   "cell_type": "code",
   "execution_count": 17,
   "metadata": {},
   "outputs": [],
   "source": [
    "def get_gradients(x,w,y_true,b):\n",
    "    \n",
    "    grad_w = np.zeros(w.shape[0])\n",
    "    grad_b = 0\n",
    "    \n",
    "    m = x.shape[0]\n",
    "    for ix in range(m):\n",
    "        grad_w += (hypothesis(x[ix],w,b)-y_true[ix])* (x[ix])\n",
    "        grad_b += (hypothesis(x[ix],w,b)-y_true[ix])*1\n",
    "        \n",
    "    return [grad_w,grad_b]"
   ]
  },
  {
   "cell_type": "code",
   "execution_count": 18,
   "metadata": {},
   "outputs": [],
   "source": [
    "def optimizer(x,w,y_true,b,learning_rate=0.001):\n",
    "    error = get_error(x,w,y_true,b)\n",
    "    \n",
    "    [grad_w,grad_b] = get_gradients(x,w,y_true,b)\n",
    "    \n",
    "    b = b- learning_rate*grad_b\n",
    "    w = w- learning_rate*grad_w\n",
    "    \n",
    "    return error,w,b"
   ]
  },
  {
   "cell_type": "code",
   "execution_count": 15,
   "metadata": {},
   "outputs": [],
   "source": [
    "def Logistics_Regression(X_train,Y_train,nb_epochs=2,learning_rate=0.0001):\n",
    "    \n",
    "    loss = []\n",
    "    \n",
    "    ## Parameter initialization\n",
    "    W = np.array([0.3,0.2])\n",
    "    b = 3.6\n",
    "    \n",
    "    for ix in range(nb_epochs):\n",
    "        error, W, b = optimizer(X_train,W,Y_train,b,learning_rate)\n",
    "        loss.append(error)\n",
    "        \n",
    "    W_final = W\n",
    "    b_final = b\n",
    "    \n",
    "    return loss,W_final,b_final"
   ]
  },
  {
   "cell_type": "code",
   "execution_count": 42,
   "metadata": {},
   "outputs": [
    {
     "name": "stdout",
     "output_type": "stream",
     "text": [
      "[1.8328267651921941, 1.813644333945606]\n"
     ]
    }
   ],
   "source": [
    "loss,w,b = Logistics_Regression(X_train,Y_train)\n",
    "print(loss)"
   ]
  },
  {
   "cell_type": "code",
   "execution_count": 45,
   "metadata": {},
   "outputs": [],
   "source": [
    "from sklearn.linear_model import LogisticRegression"
   ]
  },
  {
   "cell_type": "code",
   "execution_count": 47,
   "metadata": {},
   "outputs": [
    {
     "data": {
      "text/plain": [
       "LogisticRegression(C=1.0, class_weight=None, dual=False, fit_intercept=True,\n",
       "          intercept_scaling=1, max_iter=100, multi_class='ovr', n_jobs=1,\n",
       "          penalty='l2', random_state=None, solver='liblinear', tol=0.0001,\n",
       "          verbose=0, warm_start=False)"
      ]
     },
     "execution_count": 47,
     "metadata": {},
     "output_type": "execute_result"
    }
   ],
   "source": [
    "lr = LogisticRegression()\n",
    "\n",
    "lr.fit(X_train, Y_train)"
   ]
  },
  {
   "cell_type": "code",
   "execution_count": 49,
   "metadata": {},
   "outputs": [
    {
     "data": {
      "text/plain": [
       "0.996"
      ]
     },
     "execution_count": 49,
     "metadata": {},
     "output_type": "execute_result"
    }
   ],
   "source": [
    "lr.score(X_test, Y_test)"
   ]
  },
  {
   "cell_type": "code",
   "execution_count": null,
   "metadata": {},
   "outputs": [],
   "source": []
  }
 ],
 "metadata": {
  "kernelspec": {
   "display_name": "Python 3",
   "language": "python",
   "name": "python3"
  },
  "language_info": {
   "codemirror_mode": {
    "name": "ipython",
    "version": 3
   },
   "file_extension": ".py",
   "mimetype": "text/x-python",
   "name": "python",
   "nbconvert_exporter": "python",
   "pygments_lexer": "ipython3",
   "version": "3.6.5"
  }
 },
 "nbformat": 4,
 "nbformat_minor": 2
}
