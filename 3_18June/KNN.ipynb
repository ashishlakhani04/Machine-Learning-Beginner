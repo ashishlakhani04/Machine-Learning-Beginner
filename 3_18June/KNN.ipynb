{
 "cells": [
  {
   "cell_type": "code",
   "execution_count": 114,
   "metadata": {},
   "outputs": [],
   "source": [
    "import numpy as np\n",
    "from matplotlib import pyplot as plt\n",
    "%matplotlib inline\n",
    "import pandas as pd\n",
    "import cv2"
   ]
  },
  {
   "cell_type": "code",
   "execution_count": null,
   "metadata": {},
   "outputs": [],
   "source": [
    "# The Standard Normal Distribution is a specific instance of the Normal Distribution that has a mean of ‘0’ and a standard deviation of ‘1’.\n",
    "\n",
    "# The visual way to understand it would be the following image (taken from here):\n",
    "\n",
    "# https://qph.ec.quoracdn.net/main-qimg-f000c709a5729b88f564ae0b6962db61.webp\n",
    "    \n",
    "# The four curves are Normal distributions, but only the red one is Standard Normal (since it’s mean is zero, which means that’s where it’s centred, and its standard deviation is one, which basically tells us “how much the bell opens” to put it colloquially).\n",
    "\n",
    "# So, if one is just a specific instance of the other, what purpose does the distinction serve?\n",
    "\n",
    "# Suppose you have a data set of scores which are normally distributed with a mean of 86 and a standard deviation of 14. You pick a random test without looking at the score and you want to know the probability the score was below… say 72.\n",
    "\n",
    "# What you can do is take the probability density function;\n",
    "\n",
    "\n",
    "# and calculate the probability P(X<72) integrating on this function from -∞ to 72, replacing your SD and mean on the function. But it is a tedious integration at best.\n",
    "\n",
    "# Instead, if you standardise your function then you can get it much easier.\n",
    "\n",
    "# To do this, you subtract the mean from the value you want to examine (in this case 72) and you divide by the SD. So:\n",
    "\n",
    "# P(X<72)=P(X<(72−86)/14)=P(X<−1)P(X<72)=P(X<(72−86)/14)=P(X<−1)\n",
    "\n",
    "# So now you know that P(X<72) on your own Normal Distribution is equivalent to P(X<-1) on the Standard Normal Distribution.\n",
    "\n",
    "# https://qph.ec.quoracdn.net/main-qimg-f38e39887d71f801e136ceed91de770b.webp\n",
    "\n",
    "# You are now interested in the area of the region which is left to the -1 (which as you can see is .1587 or 15.87% probability that the score is lower than 72).\n",
    "\n",
    "# To get this value you can integrate on the SND density function or (much preferably) you can search on the normal distribution table or Z-TABLE which resumes the results of many possible evaluations so you don’t have to integrate.\n",
    "\n",
    "# In this case, you just look for the -1 on the left and the 00 on the top (because it is -1.00) and you can see that the probability is .1587.\n"
   ]
  },
  {
   "cell_type": "code",
   "execution_count": 110,
   "metadata": {},
   "outputs": [],
   "source": [
    "# Define mean and covariance matrices for different distributions\n",
    "mean_01 = np.array([0.0, 0.0]) #cordinate of first mean\n",
    "mean_02 = np.array([7., 6.])\n",
    "cov_01 = np.array([[2.0, 1.0], \n",
    "                   [1.0, 3.0]])\n",
    "cov_02 = np.array([[4.0, 0.0],\n",
    "                   [0.0, 2.0]])"
   ]
  },
  {
   "cell_type": "code",
   "execution_count": 111,
   "metadata": {},
   "outputs": [],
   "source": [
    "#create the different datasets\n",
    "# multivariate normal is same as univariate(normal bell-curve) but in multi-d\n",
    "data_01 = np.random.multivariate_normal(mean_01,cov_01,250) \n",
    "data_02 = np.random.multivariate_normal(mean_02,cov_02,250)\n",
    "# data_01[:,0] from start to end mean"
   ]
  },
  {
   "cell_type": "code",
   "execution_count": 112,
   "metadata": {},
   "outputs": [
    {
     "data": {
      "image/png": "[encoded data removed]",
      "text/plain": [
       "<Figure size 432x288 with 1 Axes>"
      ]
     },
     "metadata": {},
     "output_type": "display_data"
    }
   ],
   "source": [
    "#plot the datasets and visualize them\n",
    "plt.figure(0)\n",
    "plt.scatter(data_01[:,0],data_01[:,1],color='green')\n",
    "plt.scatter(data_02[:,0],data_02[:,1],color='red')\n",
    "plt.show()"
   ]
  },
  {
   "cell_type": "markdown",
   "metadata": {},
   "source": [
    "# Problem Statement\n",
    "#### Given the bunch of clusters and which class/category each point belongs to, can you predict in which class will any given point lie?"
   ]
  },
  {
   "cell_type": "code",
   "execution_count": 81,
   "metadata": {},
   "outputs": [
    {
     "name": "stdout",
     "output_type": "stream",
     "text": [
      "(500, 2)\n"
     ]
    }
   ],
   "source": [
    "data_X = np.concatenate((data_01,data_02),axis=0)\n",
    "print(data_X.shape)"
   ]
  },
  {
   "cell_type": "code",
   "execution_count": 83,
   "metadata": {},
   "outputs": [
    {
     "name": "stdout",
     "output_type": "stream",
     "text": [
      "(500, 3)\n"
     ]
    }
   ],
   "source": [
    "data_y = np.zeros((500,1))\n",
    "data_y[250:]=1\n",
    "data = np.concatenate((data_X,data_y),axis=1)\n",
    "print(data.shape)"
   ]
  },
  {
   "cell_type": "code",
   "execution_count": 86,
   "metadata": {},
   "outputs": [],
   "source": [
    "def distance(v1, v2):\n",
    "    # Eucledian distance\n",
    "    return np.sqrt(((v1-v2)**2).sum()) # it generalizes sqrt(sum((x2-x1)^2)+(y2-y1)^2.....n dimensions)\n",
    "\n",
    "def knn(train, test, k=3):\n",
    "    dist = []\n",
    "    \n",
    "    for i in range(train.shape[0]):\n",
    "        # Get the vector and label\n",
    "        ix = train[i, :-1] # we exclude the last one because the last one is either 0 or 1 which tell which dataset it is in, it can also be written as [1,3]\n",
    "        iy = train[i, -1] # either in 0 cluster or in 1 cluster\n",
    "        # Compute the distance from test point\n",
    "        d = distance(test, ix)\n",
    "        dist.append([d, iy])\n",
    "    # Sort based on distance and get top k\n",
    "    dk = sorted(dist, key=lambda x: x[0])[:k]\n",
    "    # Retrieve only the labels\n",
    "    labels = np.array(dk)[:, -1] # dk list k starting se ending tak, saare nodes , and on each node only return label\n",
    "    \n",
    "    # Get frequencies of each label\n",
    "    output = np.unique(labels, return_counts=True)\n",
    "    # Find max frequency and corresponding label\n",
    "    index = np.argmax(output[1])\n",
    "    return output[0][index]"
   ]
  },
  {
   "cell_type": "code",
   "execution_count": 87,
   "metadata": {},
   "outputs": [
    {
     "name": "stdout",
     "output_type": "stream",
     "text": [
      "1.0\n"
     ]
    }
   ],
   "source": [
    "x = np.array([5.0, 4.0])\n",
    "\n",
    "print(knn(data, x, k=5))"
   ]
  },
  {
   "cell_type": "code",
   "execution_count": 88,
   "metadata": {},
   "outputs": [],
   "source": [
    "#test our algo\n",
    "from sklearn.datasets import load_digits"
   ]
  },
  {
   "cell_type": "code",
   "execution_count": 89,
   "metadata": {},
   "outputs": [
    {
     "data": {
      "text/plain": [
       "(1797, 64)"
      ]
     },
     "execution_count": 89,
     "metadata": {},
     "output_type": "execute_result"
    }
   ],
   "source": [
    "load_digits(return_X_y=True)[0].shape"
   ]
  },
  {
   "cell_type": "code",
   "execution_count": 90,
   "metadata": {},
   "outputs": [
    {
     "name": "stdout",
     "output_type": "stream",
     "text": [
      "(1797, 64) (1797,)\n"
     ]
    }
   ],
   "source": [
    "data = load_digits(return_X_y=True)\n",
    "X = data[0]\n",
    "y = data[1]\n",
    "print(X.shape,y.shape)"
   ]
  },
  {
   "cell_type": "code",
   "execution_count": 91,
   "metadata": {},
   "outputs": [
    {
     "data": {
      "image/png": "[encoded data removed]",
      "text/plain": [
       "<Figure size 144x144 with 1 Axes>"
      ]
     },
     "metadata": {},
     "output_type": "display_data"
    }
   ],
   "source": [
    "plt.figure(0,figsize=(2,2))\n",
    "plt.imshow(X[452].reshape((8,8)),cmap='gray')\n",
    "plt.show()"
   ]
  },
  {
   "cell_type": "code",
   "execution_count": 92,
   "metadata": {},
   "outputs": [
    {
     "name": "stdout",
     "output_type": "stream",
     "text": [
      "(1797, 65)\n"
     ]
    }
   ],
   "source": [
    "ds = np.concatenate((X,y.reshape(-1,1)),axis=1)\n",
    "print(ds.shape)"
   ]
  },
  {
   "cell_type": "code",
   "execution_count": 93,
   "metadata": {},
   "outputs": [
    {
     "name": "stdout",
     "output_type": "stream",
     "text": [
      "(1500, 65) (297, 65)\n"
     ]
    }
   ],
   "source": [
    "trainset = ds[:1500]\n",
    "testset = ds[1500:]\n",
    "\n",
    "print(trainset.shape,testset.shape)"
   ]
  },
  {
   "cell_type": "code",
   "execution_count": 98,
   "metadata": {},
   "outputs": [],
   "source": [
    "# now we have list of testing sets\n",
    "import datetime\n",
    "\n",
    "\n",
    "\n",
    "\n",
    "def test_on_set(trainset, testing, k=3):\n",
    "    preds = []\n",
    "    target = []\n",
    "    # start = datetime.datetime.now()\n",
    "    for ix in range(testing.shape[0]):\n",
    "        out = knn(trainset, testing[ix, :-1], k=k)\n",
    "        preds.append(out)\n",
    "        target.append(testing[ix, -1])\n",
    "    preds = np.asarray(preds)\n",
    "    target = np.asarray(target)\n",
    "    # stop = datetime.datetime.now()\n",
    "\n",
    "    # print preds.shape, target.shape\n",
    "    # print \"Time taken: {}\".format(stop - start)\n",
    "\n",
    "    acc = float((preds == target).sum()) / len(preds) # count all true and divide by sum to get the accuracy\n",
    "\n",
    "    print (\"Accuracy: {} wiht k: {}\".format(acc, k))\n",
    "    return acc"
   ]
  },
  {
   "cell_type": "code",
   "execution_count": 99,
   "metadata": {},
   "outputs": [
    {
     "name": "stdout",
     "output_type": "stream",
     "text": [
      "Accuracy: 0.9562289562289562 wiht k: 2\n",
      "Accuracy: 0.9595959595959596 wiht k: 3\n",
      "Accuracy: 0.9595959595959596 wiht k: 4\n",
      "Accuracy: 0.9562289562289562 wiht k: 5\n",
      "Accuracy: 0.9461279461279462 wiht k: 6\n",
      "Accuracy: 0.9461279461279462 wiht k: 7\n",
      "Accuracy: 0.9427609427609428 wiht k: 8\n",
      "Accuracy: 0.9427609427609428 wiht k: 9\n",
      "Accuracy: 0.9427609427609428 wiht k: 10\n",
      "Accuracy: 0.9427609427609428 wiht k: 11\n",
      "Accuracy: 0.9427609427609428 wiht k: 12\n",
      "Accuracy: 0.9393939393939394 wiht k: 13\n",
      "Accuracy: 0.9427609427609428 wiht k: 14\n",
      "Accuracy: 0.9393939393939394 wiht k: 15\n",
      "Accuracy: 0.9461279461279462 wiht k: 16\n",
      "Accuracy: 0.9427609427609428 wiht k: 17\n",
      "Accuracy: 0.9393939393939394 wiht k: 18\n"
     ]
    }
   ],
   "source": [
    "accs = []\n",
    "ks = [2, 3, 4, 5, 6, 7, 8, 9, 10, 11, 12, 13, 14, 15, 16, 17, 18]\n",
    "\n",
    "for kx in ks:\n",
    "    acx = test_on_set(trainset, testset, k=kx)\n",
    "    accs.append(acx)"
   ]
  },
  {
   "cell_type": "code",
   "execution_count": 105,
   "metadata": {},
   "outputs": [
    {
     "data": {
      "image/png": "[encoded data removed]",
      "text/plain": [
       "<Figure size 432x288 with 1 Axes>"
      ]
     },
     "metadata": {},
     "output_type": "display_data"
    }
   ],
   "source": [
    "plt.figure(0)\n",
    "plt.grid(True)\n",
    "plt.plot(accs)\n",
    "\n",
    "plt.show()"
   ]
  },
  {
   "cell_type": "code",
   "execution_count": 115,
   "metadata": {},
   "outputs": [],
   "source": [
    "# http://ajcr.net/Basic-guide-to-einsum/ (Intro to ein-sum)"
   ]
  },
  {
   "cell_type": "markdown",
   "metadata": {},
   "source": [
    "# Norms"
   ]
  },
  {
   "cell_type": "markdown",
   "metadata": {},
   "source": [
    "#### The magnitude of a vector can be measured using a function called a norm\n",
    "        - Norms map vector to non-negative values\n",
    "        - The norm of a vector x measures the distance from the origin to point x"
   ]
  },
  {
   "cell_type": "code",
   "execution_count": null,
   "metadata": {},
   "outputs": [],
   "source": []
  }
 ],
 "metadata": {
  "kernelspec": {
   "display_name": "Python 3",
   "language": "python",
   "name": "python3"
  },
  "language_info": {
   "codemirror_mode": {
    "name": "ipython",
    "version": 3
   },
   "file_extension": ".py",
   "mimetype": "text/x-python",
   "name": "python",
   "nbconvert_exporter": "python",
   "pygments_lexer": "ipython3",
   "version": "3.6.5"
  }
 },
 "nbformat": 4,
 "nbformat_minor": 2
}
