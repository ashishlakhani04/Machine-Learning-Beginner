{
 "cells": [
  {
   "cell_type": "markdown",
   "metadata": {},
   "source": [
    "# Numpy"
   ]
  },
  {
   "cell_type": "code",
   "execution_count": 1,
   "metadata": {},
   "outputs": [],
   "source": [
    "#Numpy is most suitable for performing basic numerical computations such as mean, median, range, etc. Alongside, it also supports the creation of multi-dimensional arrays.\n",
    "import numpy as np\n",
    "import random"
   ]
  },
  {
   "cell_type": "code",
   "execution_count": 42,
   "metadata": {},
   "outputs": [
    {
     "name": "stdout",
     "output_type": "stream",
     "text": [
      "[0.   0.25 0.5  0.75 1.  ]\n",
      "[1, 2, 3, 3, 5]\n",
      "[1 2 3 3 5]\n",
      "<class 'list'> <class 'numpy.ndarray'> int64\n",
      "(5,)\n"
     ]
    }
   ],
   "source": [
    "#convert list to numpy arrays-1D \n",
    "my_list = [1,2,3,3,5]\n",
    "arr = np.asarray(my_list)\n",
    "\n",
    "#create an array of even space between the given range of values\n",
    "print(np.linspace(0, 1, 5))\n",
    "\n",
    "print(my_list)\n",
    "print(arr)\n",
    "print(type(my_list),type(arr),arr.dtype)\n",
    "print(arr.shape)"
   ]
  },
  {
   "cell_type": "code",
   "execution_count": 8,
   "metadata": {},
   "outputs": [
    {
     "name": "stdout",
     "output_type": "stream",
     "text": [
      "[[1, 2, 4], [2, 4, 5]]\n",
      "[[1 2 4]\n",
      " [2 4 5]]\n",
      "<class 'list'> <class 'numpy.ndarray'> int64\n",
      "(2, 3)\n"
     ]
    }
   ],
   "source": [
    "#convert list to numpy arrays-multiD\n",
    "my_list = [[1,2,4],[2,4,5]]\n",
    "arr = np.asarray(my_list)\n",
    "print(my_list)\n",
    "print(arr)\n",
    "print(type(my_list),type(arr),arr.dtype)\n",
    "print(arr.shape)"
   ]
  },
  {
   "cell_type": "code",
   "execution_count": 18,
   "metadata": {},
   "outputs": [
    {
     "name": "stdout",
     "output_type": "stream",
     "text": [
      "[[0 0 0]\n",
      " [0 0 0]]\n"
     ]
    }
   ],
   "source": [
    "#create new numpy Arrays\n",
    "arr0 = np.zeros((2,3),dtype='uint8') #size is given through tuples and initially float, typecast it\n",
    "print(arr0)"
   ]
  },
  {
   "cell_type": "code",
   "execution_count": 13,
   "metadata": {},
   "outputs": [
    {
     "name": "stdout",
     "output_type": "stream",
     "text": [
      "[[5. 0. 0. 0. 0.]\n",
      " [0. 5. 0. 0. 0.]\n",
      " [0. 0. 5. 0. 0.]\n",
      " [0. 0. 0. 5. 0.]\n",
      " [0. 0. 0. 0. 5.]]\n"
     ]
    }
   ],
   "source": [
    "# Identity Matrix\n",
    "I = np.eye(5)*5\n",
    "print(I)"
   ]
  },
  {
   "cell_type": "code",
   "execution_count": 21,
   "metadata": {},
   "outputs": [
    {
     "name": "stdout",
     "output_type": "stream",
     "text": [
      "[[1. 1. 1. 1. 1.]\n",
      " [1. 1. 1. 1. 1.]\n",
      " [1. 1. 1. 1. 1.]\n",
      " [1. 1. 1. 1. 1.]\n",
      " [1. 1. 1. 1. 1.]]\n",
      "------------------------------\n",
      "[[1. 1. 1. 1. 1.]\n",
      " [1. 1. 1. 1. 1.]\n",
      " [1. 1. 1. 1. 1.]\n",
      " [1. 1. 1. 1. 1.]\n",
      " [1. 1. 1. 1. 1.]]\n"
     ]
    }
   ],
   "source": [
    "# all ones\n",
    "O = np.ones((5,5))\n",
    "print(O)\n",
    "print(\"-\"*30)\n",
    "# array copies\n",
    "arr1 = O.copy()\n",
    "print(arr1)"
   ]
  },
  {
   "cell_type": "code",
   "execution_count": 23,
   "metadata": {},
   "outputs": [
    {
     "name": "stdout",
     "output_type": "stream",
     "text": [
      "[[1 2]\n",
      " [4 2]\n",
      " [4 5]]\n"
     ]
    }
   ],
   "source": [
    "# Shapes of numpy arrays and multi-dimensional arrays\n",
    "my_list = [[1,2,4],[2,4,5]]\n",
    "arr = np.asarray(my_list)\n",
    "\n",
    "arr1 = arr.reshape(3,2)\n",
    "print(arr1)"
   ]
  },
  {
   "cell_type": "code",
   "execution_count": 25,
   "metadata": {},
   "outputs": [
    {
     "name": "stdout",
     "output_type": "stream",
     "text": [
      "[[[1]\n",
      "  [2]]\n",
      "\n",
      " [[4]\n",
      "  [2]]\n",
      "\n",
      " [[4]\n",
      "  [5]]]\n"
     ]
    }
   ],
   "source": [
    "arr1 = arr.reshape(3,2,1)\n",
    "print(arr1)"
   ]
  },
  {
   "cell_type": "code",
   "execution_count": 26,
   "metadata": {},
   "outputs": [
    {
     "name": "stdout",
     "output_type": "stream",
     "text": [
      "[[1 2]\n",
      " [4 2]\n",
      " [4 5]]\n"
     ]
    }
   ],
   "source": [
    "arr1 = arr.reshape(3,-1)\n",
    "print(arr1)"
   ]
  },
  {
   "cell_type": "code",
   "execution_count": 31,
   "metadata": {},
   "outputs": [
    {
     "name": "stdout",
     "output_type": "stream",
     "text": [
      "[[0.01072858 0.31523738 0.82247578 0.40429174 0.10409665]\n",
      " [0.75072654 0.30745507 0.18828453 0.70122944 0.1922173 ]\n",
      " [0.63651352 0.29512466 0.41258704 0.14276637 0.40433074]\n",
      " [0.85844233 0.46257035 0.38144881 0.655621   0.27093957]\n",
      " [0.96780174 0.76465621 0.37331425 0.10994762 0.09559972]]\n",
      "------------------------------\n",
      "[0.33136603 0.42798258 0.37826447 0.52580441 0.46226391]\n",
      "[0.64484254 0.42900873 0.43562208 0.40277123 0.2134368 ]\n"
     ]
    }
   ],
   "source": [
    "# Random numpy arrays\n",
    "r_arr = np.random.random((5,5))\n",
    "print(r_arr)\n",
    "print(\"-\"*30)\n",
    "print(np.mean(r_arr,axis=1))\n",
    "print(np.mean(r_arr,axis=0))"
   ]
  },
  {
   "cell_type": "code",
   "execution_count": 35,
   "metadata": {},
   "outputs": [
    {
     "name": "stdout",
     "output_type": "stream",
     "text": [
      "[[0.87953024 0.66560569 0.7488362  0.34620965 0.8697888 ]\n",
      " [0.77609715 0.11641265 0.31438315 0.95017497 0.10583084]\n",
      " [0.26879433 0.41216473 0.99659183 0.06217917 0.8365668 ]\n",
      " [0.2063188  0.02790068 0.14751995 0.73736694 0.68108578]\n",
      " [0.79909024 0.59818095 0.27277513 0.72729004 0.63796433]]\n",
      "------------------------------\n",
      "[[0.87953024 0.77609715 0.26879433 0.2063188  0.79909024]\n",
      " [0.66560569 0.11641265 0.41216473 0.02790068 0.59818095]\n",
      " [0.7488362  0.31438315 0.99659183 0.14751995 0.27277513]\n",
      " [0.34620965 0.95017497 0.06217917 0.73736694 0.72729004]\n",
      " [0.8697888  0.10583084 0.8365668  0.68108578 0.63796433]]\n"
     ]
    }
   ],
   "source": [
    "# transpose of a matrix\n",
    "r_arr = np.random.random((5,5))\n",
    "print(r_arr)\n",
    "print(\"-\"*30)\n",
    "r_arr2 = r_arr.transpose()\n",
    "print(r_arr2)"
   ]
  },
  {
   "cell_type": "code",
   "execution_count": 36,
   "metadata": {},
   "outputs": [
    {
     "name": "stdout",
     "output_type": "stream",
     "text": [
      "[[ 3 -1 -4]\n",
      " [-2 -5  7]\n",
      " [ 7 -3  1]]\n"
     ]
    }
   ],
   "source": [
    "# randint function\n",
    "B = np.random.randint(low=-5, high=10, size=(3, 3))\n",
    "print(B)"
   ]
  },
  {
   "cell_type": "code",
   "execution_count": 37,
   "metadata": {},
   "outputs": [
    {
     "name": "stdout",
     "output_type": "stream",
     "text": [
      "[[ 1  2  3]\n",
      " [-1  0  5]\n",
      " [ 9  7  2]] int64\n",
      "----------------------------------------\n",
      "[[ 1.  2.  3.]\n",
      " [-1.  0.  5.]\n",
      " [ 9.  7.  2.]] float16\n"
     ]
    }
   ],
   "source": [
    "# change dtype of numpy array\n",
    "A = np.array([[1, 2, 3], [-1, 0, 5], [9, 7, 2]])\n",
    "print(A,A.dtype)\n",
    "print('-'*40)\n",
    "A = A.astype(np.float16)\n",
    "print(A, A.dtype)"
   ]
  },
  {
   "cell_type": "code",
   "execution_count": 39,
   "metadata": {},
   "outputs": [
    {
     "name": "stdout",
     "output_type": "stream",
     "text": [
      "[[[ 1.  3.]\n",
      "  [ 2. -1.]\n",
      "  [ 3. -4.]]\n",
      "\n",
      " [[-1. -2.]\n",
      "  [ 0. -5.]\n",
      "  [ 5.  7.]]\n",
      "\n",
      " [[ 9.  7.]\n",
      "  [ 7. -3.]\n",
      "  [ 2.  1.]]] (3, 3, 2)\n"
     ]
    }
   ],
   "source": [
    "cc = np.concatenate((A.reshape(3,3,1),B.reshape(3,3,1)),axis=2)\n",
    "print (cc,cc.shape)"
   ]
  },
  {
   "cell_type": "code",
   "execution_count": 43,
   "metadata": {},
   "outputs": [
    {
     "data": {
      "text/plain": [
       "array([[1, 2, 3],\n",
       "       [4, 5, 6],\n",
       "       [7, 8, 9]])"
      ]
     },
     "execution_count": 43,
     "metadata": {},
     "output_type": "execute_result"
    }
   ],
   "source": [
    "# if you are required to combine a 2D array with 1D array,then use h_stack and v_stack instead of concatenate\n",
    "x = np.array([1,2,3])\n",
    "grid = np.array([[4,5,6],[7,8,9]])\n",
    "np.vstack([x,grid])"
   ]
  },
  {
   "cell_type": "code",
   "execution_count": 51,
   "metadata": {},
   "outputs": [
    {
     "name": "stdout",
     "output_type": "stream",
     "text": [
      "[1 2 3] [4 4 5] [5 6 7]\n",
      "******************************\n"
     ]
    },
    {
     "data": {
      "text/plain": [
       "[array([0., 1., 2.]),\n",
       " array([3., 4.]),\n",
       " array([5.]),\n",
       " array([6., 7.]),\n",
       " array([], dtype=float64)]"
      ]
     },
     "execution_count": 51,
     "metadata": {},
     "output_type": "execute_result"
    }
   ],
   "source": [
    "# we can split the arrays based on pre-defined positions\n",
    "arr = np.array([1,2,3,4,4,5,5,6,7])\n",
    "x1,x2,x3 = np.split(arr,[3,6]) # 3 pieces,then 6-3 pieces\n",
    "print(x1,x2,x3)\n",
    "print('*'*30)\n",
    "x = np.arange(8.0)\n",
    "np.split(x, [3, 5, 6, 10])"
   ]
  },
  {
   "cell_type": "code",
   "execution_count": 6,
   "metadata": {
    "scrolled": true
   },
   "outputs": [
    {
     "name": "stdout",
     "output_type": "stream",
     "text": [
      "[[0. 1. 2.]\n",
      " [3. 4. 5.]\n",
      " [6. 7. 8.]]\n",
      "[0. 1. 2.]\n"
     ]
    },
    {
     "data": {
      "text/plain": [
       "array([[ 0.,  1.,  4.],\n",
       "       [ 0.,  4., 10.],\n",
       "       [ 0.,  7., 16.]])"
      ]
     },
     "execution_count": 6,
     "metadata": {},
     "output_type": "execute_result"
    }
   ],
   "source": [
    "#multiply two arrays (doubt)\n",
    "x1 = np.arange(9.0).reshape(3,3)\n",
    "print(x1)\n",
    "x2 = np.arange(3.0)\n",
    "print(x2)\n",
    "np.multiply(x1,x2)"
   ]
  },
  {
   "cell_type": "code",
   "execution_count": null,
   "metadata": {},
   "outputs": [],
   "source": [
    "# inverse\n",
    "C = np.random.random((4, 6))\n",
    "C_inv = np.linalg.pinv(C)\n",
    "print (C_inv.dot(C))"
   ]
  },
  {
   "cell_type": "code",
   "execution_count": null,
   "metadata": {},
   "outputs": [],
   "source": [
    "# Read about SVD and pseudo-inverse\n"
   ]
  }
 ],
 "metadata": {
  "kernelspec": {
   "display_name": "Python 3",
   "language": "python",
   "name": "python3"
  },
  "language_info": {
   "codemirror_mode": {
    "name": "ipython",
    "version": 3
   },
   "file_extension": ".py",
   "mimetype": "text/x-python",
   "name": "python",
   "nbconvert_exporter": "python",
   "pygments_lexer": "ipython3",
   "version": "3.6.5"
  }
 },
 "nbformat": 4,
 "nbformat_minor": 2
}
