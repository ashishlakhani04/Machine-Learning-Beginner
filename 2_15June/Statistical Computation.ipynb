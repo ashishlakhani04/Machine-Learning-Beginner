{
 "cells": [
  {
   "cell_type": "code",
   "execution_count": 33,
   "metadata": {},
   "outputs": [],
   "source": [
    "# Generating random numbers\n",
    "# TODO: Generate A, B, C with probability 0.3, 0.2 and 0.5.\n",
    "import numpy as np\n",
    "from matplotlib import pyplot as plt\n",
    "%matplotlib inline\n",
    "def generate_random():\n",
    "    r = np.random.random()\n",
    "    \n",
    "    if r<0.3:\n",
    "        return 'A'\n",
    "    elif r>=0.3 and r<0.5:\n",
    "        return 'B'\n",
    "    else:\n",
    "        return 'C'"
   ]
  },
  {
   "cell_type": "code",
   "execution_count": 34,
   "metadata": {},
   "outputs": [
    {
     "name": "stdout",
     "output_type": "stream",
     "text": [
      "0.3028 0.2026 0.4946\n"
     ]
    }
   ],
   "source": [
    "k=10000\n",
    "a,b,c = 0,0,0\n",
    "for i in range(k):\n",
    "    ans = generate_random()\n",
    "    if ans is 'A':\n",
    "        a += 1 \n",
    "    elif ans == 'B':\n",
    "        b += 1\n",
    "    else:\n",
    "        c += 1\n",
    "print(a/k,b/k,c/k)\n"
   ]
  },
  {
   "cell_type": "code",
   "execution_count": 35,
   "metadata": {},
   "outputs": [],
   "source": [
    "# Plot random numbers as scatter plot\n",
    "mean = np.array([0.,5.])\n",
    "cov = np.array([[10.0,0.0],\n",
    "                [0.0, 1.0]])\n",
    "data = np.random.multivariate_normal(mean,cov,500)"
   ]
  },
  {
   "cell_type": "code",
   "execution_count": 36,
   "metadata": {},
   "outputs": [
    {
     "name": "stdout",
     "output_type": "stream",
     "text": [
      "(500, 2)\n"
     ]
    }
   ],
   "source": [
    "print(data.shape)"
   ]
  },
  {
   "cell_type": "code",
   "execution_count": 38,
   "metadata": {},
   "outputs": [
    {
     "data": {
      "text/plain": [
       "<matplotlib.collections.PathCollection at 0x10f8e9240>"
      ]
     },
     "execution_count": 38,
     "metadata": {},
     "output_type": "execute_result"
    },
    {
     "data": {
      "image/png": "[encoded data removed]",
      "text/plain": [
       "<Figure size 432x288 with 1 Axes>"
      ]
     },
     "metadata": {},
     "output_type": "display_data"
    }
   ],
   "source": [
    "# Generate normal Distribution in 2D\n",
    "plt.figure(0)\n",
    "plt.grid(True)\n",
    "plt.xlim(-10,10)\n",
    "plt.ylim(-10,10)\n",
    "plt.scatter(data[:,0],data[:,1])"
   ]
  },
  {
   "cell_type": "code",
   "execution_count": null,
   "metadata": {},
   "outputs": [],
   "source": []
  }
 ],
 "metadata": {
  "kernelspec": {
   "display_name": "Python 3",
   "language": "python",
   "name": "python3"
  },
  "language_info": {
   "codemirror_mode": {
    "name": "ipython",
    "version": 3
   },
   "file_extension": ".py",
   "mimetype": "text/x-python",
   "name": "python",
   "nbconvert_exporter": "python",
   "pygments_lexer": "ipython3",
   "version": "3.6.5"
  }
 },
 "nbformat": 4,
 "nbformat_minor": 2
}
