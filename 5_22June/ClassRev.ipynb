{
 "cells": [
  {
   "cell_type": "code",
   "execution_count": 72,
   "metadata": {},
   "outputs": [],
   "source": [
    "import numpy as np\n",
    "from matplotlib import pyplot as plt\n",
    "%matplotlib inline\n",
    "import sklearn\n",
    "from sklearn.datasets import make_blobs"
   ]
  },
  {
   "cell_type": "code",
   "execution_count": 73,
   "metadata": {},
   "outputs": [],
   "source": [
    "# mean_01 = np.array([0.0,0.0])\n",
    "# mean_02 = np.array([7.0,0.0])\n",
    "# mean_03 = np.array([0.0,7.0])\n",
    "\n",
    "# cov_01 = np.array([[2.0, 1.0],\n",
    "#                    [1.0, 3.0]])\n",
    "# cov_02 = np.array([[4.0, 0.0],\n",
    "#                    [0.0, 2.0]])\n",
    "# cov_03 = np.array([[2.0, 1.0],\n",
    "#                    [1.0, 3.0]])"
   ]
  },
  {
   "cell_type": "code",
   "execution_count": 74,
   "metadata": {},
   "outputs": [],
   "source": [
    "# create the different datasets\n",
    "\n",
    "# data_01 = np.random.multivariate_normal(mean_01,cov_01,250)\n",
    "# data_02 = np.random.multivariate_normal(mean_02,cov_02,250)\n",
    "# data_03 = np.random.multivariate_normal(mean_03,cov_03,250)\n",
    "\n",
    "# np.random.random(2,)\n",
    "# print(data_01.shape)\n",
    "# print(data_01) # 2d array consisting of 250 1d array of datapoints(x-y coordinates)"
   ]
  },
  {
   "cell_type": "code",
   "execution_count": 75,
   "metadata": {},
   "outputs": [],
   "source": [
    "# Plot the different datasets to visualize\n",
    "#data_01[:,0] # locate all x\n",
    "\n",
    "# plt.figure(0)\n",
    "# plt.scatter(data_01[:,0],data_01[:,1],color='green')\n",
    "# plt.scatter(data_02[:,0],data_02[:,1],color='red')\n",
    "# plt.scatter(data_03[:,0],data_03[:,1],color='yellow')\n",
    "# plt.show()"
   ]
  },
  {
   "cell_type": "code",
   "execution_count": 76,
   "metadata": {},
   "outputs": [],
   "source": [
    "# Number of clusters\n",
    "# k = 3\n",
    "\n",
    "# Generate random clusters\n",
    "# clusters = {}\n",
    "\n",
    "# colors = ['red', 'green', 'blue', 'yellow', 'cyan', 'pink']\n",
    "# dim = data_01.shape[1] # 2(x,y) dimension\n",
    "# for kx in range(k):\n",
    "#     cluster_id = kx\n",
    "#     points = []\n",
    "#     center = 10.0 * (np.random.random(dim,)*2 - 1) # np.random.random(dim,) array with 2 elements having elements ranging from 0 and 1\n",
    "#     color = colors[kx]\n",
    "#     clusters[cluster_id] = {\n",
    "#         'points': points,\n",
    "#         'center': center,\n",
    "#         'color': color\n",
    "#     }\n",
    "# print(clusters)"
   ]
  },
  {
   "cell_type": "code",
   "execution_count": 77,
   "metadata": {},
   "outputs": [
    {
     "name": "stdout",
     "output_type": "stream",
     "text": [
      "(1000, 2) (1000,)\n",
      "[10.17900771 -5.6626749 ]\n"
     ]
    }
   ],
   "source": [
    "data_X, data_y = make_blobs(1000, 2, 5)\n",
    "print (data_X.shape, data_y.shape)\n",
    "print(data_X[0])"
   ]
  },
  {
   "cell_type": "code",
   "execution_count": 78,
   "metadata": {},
   "outputs": [
    {
     "data": {
      "image/png": "[encoded data removed]",
      "text/plain": [
       "<Figure size 432x288 with 1 Axes>"
      ]
     },
     "metadata": {},
     "output_type": "display_data"
    }
   ],
   "source": [
    "plt.figure(0)\n",
    "plt.grid(True)\n",
    "plt.scatter(data_X[:, 0], data_X[:, 1])\n",
    "plt.show()"
   ]
  },
  {
   "cell_type": "code",
   "execution_count": 79,
   "metadata": {},
   "outputs": [
    {
     "name": "stdout",
     "output_type": "stream",
     "text": [
      "{0: {'points': [], 'center': array([-6.65295028,  8.63536516]), 'color': 'red'}, 1: {'points': [], 'center': array([8.57808907, 3.89872183]), 'color': 'green'}, 2: {'points': [], 'center': array([-6.49377433,  1.48676661]), 'color': 'blue'}, 3: {'points': [], 'center': array([ 2.77252672, -0.04403441]), 'color': 'yellow'}, 4: {'points': [], 'center': array([ 4.65110616, -1.26390577]), 'color': 'cyan'}}\n"
     ]
    }
   ],
   "source": [
    "k = 5\n",
    "\n",
    "# Generate random cluster centers\n",
    "clusters = {}\n",
    "\n",
    "colors = ['red', 'green', 'blue', 'yellow', 'cyan', 'pink']\n",
    "\n",
    "for kx in range(k):\n",
    "    cluster_id = kx\n",
    "    points = []\n",
    "    dim = data_X.shape[1]\n",
    "    center = 10.0*(np.random.random((dim,))*2 - 1)\n",
    "    color = colors[kx]\n",
    "    clusters[cluster_id] = {\n",
    "        'points': points,\n",
    "        'center': center,\n",
    "        'color': color\n",
    "    }\n",
    "\n",
    "print (clusters)"
   ]
  },
  {
   "cell_type": "code",
   "execution_count": 80,
   "metadata": {},
   "outputs": [],
   "source": [
    "def distance(x1, x2):\n",
    "    return np.sqrt(np.sum((x1 - x2)**2))"
   ]
  },
  {
   "cell_type": "code",
   "execution_count": 86,
   "metadata": {},
   "outputs": [
    {
     "data": {
      "image/png": "[encoded data removed]",
      "text/plain": [
       "<Figure size 432x288 with 1 Axes>"
      ]
     },
     "metadata": {},
     "output_type": "display_data"
    }
   ],
   "source": [
    "# Allocate points to cluster\n",
    "# for every loop it calculates distance of every point with every k\n",
    "# shifts the center\n",
    "# prints the graph\n",
    "for ix in range(data_X.shape[0]): # 1000\n",
    "    # For each point, get distance with each cluster\n",
    "    dist = [] # it is initializing every time\n",
    "    for kx in range(k):\n",
    "        d = distance(data_X[ix], clusters[kx]['center'])\n",
    "        dist.append(d)\n",
    "    # Get cluster id where current point belongs\n",
    "    c_id = np.argmin(dist) # it return one of 0,1,2,3,4\n",
    "#     print(c_id)\n",
    "    \n",
    "    clusters[c_id]['points'].append(data_X[ix])\n",
    "\n",
    "for kx in range(k):\n",
    "    pts = np.asarray(clusters[kx]['points'])\n",
    "    if pts.shape[0] > 0: # cluster alloted at least one point\n",
    "        # Compute new cluster center\n",
    "        new_center = pts.mean(axis=0)\n",
    "    else:\n",
    "        new_center = clusters[kx]['center']\n",
    "    clusters[kx]['points'] = pts\n",
    "    clusters[kx]['center'] = new_center\n",
    "\n",
    "plt.figure(0)\n",
    "\n",
    "for kx in range(k):\n",
    "    cc = clusters[kx]['center']\n",
    "    \n",
    "    pts = clusters[kx]['points']\n",
    "    try:\n",
    "        plt.scatter(pts[:, 0], pts[:, 1], color=clusters[kx]['color'])\n",
    "    except:\n",
    "        pass\n",
    "    \n",
    "    plt.scatter(cc[0], cc[1], color='black', s=100, marker='*')\n",
    "    \n",
    "    clusters[kx]['points'] = []\n",
    "plt.show()"
   ]
  },
  {
   "cell_type": "code",
   "execution_count": null,
   "metadata": {},
   "outputs": [],
   "source": []
  }
 ],
 "metadata": {
  "kernelspec": {
   "display_name": "Python 3",
   "language": "python",
   "name": "python3"
  },
  "language_info": {
   "codemirror_mode": {
    "name": "ipython",
    "version": 3
   },
   "file_extension": ".py",
   "mimetype": "text/x-python",
   "name": "python",
   "nbconvert_exporter": "python",
   "pygments_lexer": "ipython3",
   "version": "3.6.5"
  }
 },
 "nbformat": 4,
 "nbformat_minor": 2
}
